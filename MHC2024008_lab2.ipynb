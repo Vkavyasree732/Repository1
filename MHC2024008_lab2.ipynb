{
  "cells": [
    {
      "cell_type": "markdown",
      "metadata": {
        "id": "view-in-github",
        "colab_type": "text"
      },
      "source": [
        "<a href=\"https://colab.research.google.com/github/Vkavyasree732/Repository1/blob/main/MHC2024008_lab2.ipynb\" target=\"_parent\"><img src=\"https://colab.research.google.com/assets/colab-badge.svg\" alt=\"Open In Colab\"/></a>"
      ]
    },
    {
      "cell_type": "code",
      "execution_count": null,
      "metadata": {
        "colab": {
          "base_uri": "https://localhost:8080/"
        },
        "id": "AMYv_jlVn50D",
        "outputId": "a3a36426-18d2-404e-9697-817c3557c9cf"
      },
      "outputs": [
        {
          "output_type": "stream",
          "name": "stdout",
          "text": [
            "Downloading http://yann.lecun.com/exdb/mnist/train-images-idx3-ubyte.gz\n",
            "Failed to download (trying next):\n",
            "<urlopen error [Errno 110] Connection timed out>\n",
            "\n",
            "Downloading https://ossci-datasets.s3.amazonaws.com/mnist/train-images-idx3-ubyte.gz\n",
            "Downloading https://ossci-datasets.s3.amazonaws.com/mnist/train-images-idx3-ubyte.gz to ./data/MNIST/raw/train-images-idx3-ubyte.gz\n"
          ]
        },
        {
          "output_type": "stream",
          "name": "stderr",
          "text": [
            "100%|██████████| 9.91M/9.91M [00:02<00:00, 4.61MB/s]\n"
          ]
        },
        {
          "output_type": "stream",
          "name": "stdout",
          "text": [
            "Extracting ./data/MNIST/raw/train-images-idx3-ubyte.gz to ./data/MNIST/raw\n",
            "\n",
            "Downloading http://yann.lecun.com/exdb/mnist/train-labels-idx1-ubyte.gz\n",
            "Failed to download (trying next):\n",
            "<urlopen error [Errno 110] Connection timed out>\n",
            "\n",
            "Downloading https://ossci-datasets.s3.amazonaws.com/mnist/train-labels-idx1-ubyte.gz\n",
            "Downloading https://ossci-datasets.s3.amazonaws.com/mnist/train-labels-idx1-ubyte.gz to ./data/MNIST/raw/train-labels-idx1-ubyte.gz\n"
          ]
        },
        {
          "output_type": "stream",
          "name": "stderr",
          "text": [
            "100%|██████████| 28.9k/28.9k [00:00<00:00, 66.2kB/s]\n"
          ]
        },
        {
          "output_type": "stream",
          "name": "stdout",
          "text": [
            "Extracting ./data/MNIST/raw/train-labels-idx1-ubyte.gz to ./data/MNIST/raw\n",
            "\n",
            "Downloading http://yann.lecun.com/exdb/mnist/t10k-images-idx3-ubyte.gz\n",
            "Failed to download (trying next):\n",
            "<urlopen error [Errno 110] Connection timed out>\n",
            "\n",
            "Downloading https://ossci-datasets.s3.amazonaws.com/mnist/t10k-images-idx3-ubyte.gz\n",
            "Downloading https://ossci-datasets.s3.amazonaws.com/mnist/t10k-images-idx3-ubyte.gz to ./data/MNIST/raw/t10k-images-idx3-ubyte.gz\n"
          ]
        },
        {
          "output_type": "stream",
          "name": "stderr",
          "text": [
            "100%|██████████| 1.65M/1.65M [00:01<00:00, 1.27MB/s]\n"
          ]
        },
        {
          "output_type": "stream",
          "name": "stdout",
          "text": [
            "Extracting ./data/MNIST/raw/t10k-images-idx3-ubyte.gz to ./data/MNIST/raw\n",
            "\n",
            "Downloading http://yann.lecun.com/exdb/mnist/t10k-labels-idx1-ubyte.gz\n",
            "Failed to download (trying next):\n",
            "<urlopen error [Errno 110] Connection timed out>\n",
            "\n",
            "Downloading https://ossci-datasets.s3.amazonaws.com/mnist/t10k-labels-idx1-ubyte.gz\n",
            "Downloading https://ossci-datasets.s3.amazonaws.com/mnist/t10k-labels-idx1-ubyte.gz to ./data/MNIST/raw/t10k-labels-idx1-ubyte.gz\n"
          ]
        },
        {
          "output_type": "stream",
          "name": "stderr",
          "text": [
            "100%|██████████| 4.54k/4.54k [00:00<00:00, 4.48MB/s]"
          ]
        },
        {
          "output_type": "stream",
          "name": "stdout",
          "text": [
            "Extracting ./data/MNIST/raw/t10k-labels-idx1-ubyte.gz to ./data/MNIST/raw\n",
            "\n"
          ]
        },
        {
          "output_type": "stream",
          "name": "stderr",
          "text": [
            "\n"
          ]
        }
      ],
      "source": [
        "\n",
        "\n",
        "import torch\n",
        "import torchvision\n",
        "import torchvision.transforms as transforms\n",
        "\n",
        "\n",
        "transform = transforms.Compose(\n",
        "    [transforms.ToTensor(),\n",
        "     transforms.Normalize((0.5,), (0.5,))])\n",
        "\n",
        "\n",
        "trainset = torchvision.datasets.MNIST(root='./data', train=True,\n",
        "                                        download=True, transform=transform)\n",
        "trainloader = torch.utils.data.DataLoader(trainset, batch_size=4,\n",
        "                                          shuffle=True, num_workers=2)\n",
        "\n",
        "\n",
        "testset = torchvision.datasets.MNIST(root='./data', train=False,\n",
        "                                       download=True, transform=transform)\n",
        "testloader = torch.utils.data.DataLoader(testset, batch_size=4,\n",
        "                                         shuffle=False, num_workers=2)\n",
        "\n",
        "\n",
        "classes = ('0', '1', '2', '3', '4', '5', '6', '7', '8', '9')\n"
      ]
    },
    {
      "cell_type": "code",
      "execution_count": null,
      "metadata": {
        "colab": {
          "base_uri": "https://localhost:8080/"
        },
        "id": "Sy0IDgsJoFFa",
        "outputId": "5ec44118-45ff-4eab-b3c5-4a79178ddd3f"
      },
      "outputs": [
        {
          "output_type": "stream",
          "name": "stdout",
          "text": [
            "[1,  2000] loss: 1.140\n",
            "[1,  4000] loss: 0.221\n",
            "[1,  6000] loss: 0.144\n",
            "[1,  8000] loss: 0.135\n",
            "[1, 10000] loss: 0.113\n",
            "[1, 12000] loss: 0.088\n",
            "[1, 14000] loss: 0.095\n",
            "[2,  2000] loss: 0.069\n",
            "[2,  4000] loss: 0.064\n",
            "[2,  6000] loss: 0.067\n",
            "[2,  8000] loss: 0.057\n",
            "[2, 10000] loss: 0.066\n",
            "[2, 12000] loss: 0.058\n",
            "[2, 14000] loss: 0.065\n",
            "Finished Training\n"
          ]
        }
      ],
      "source": [
        "\n",
        "#Task2\n",
        "import torch.nn as nn\n",
        "import torch.nn.functional as F\n",
        "import torch.optim as optim\n",
        "\n",
        "\n",
        "class Net(nn.Module):\n",
        "    def __init__(self):\n",
        "        super(Net, self).__init__()\n",
        "        self.conv1 = nn.Conv2d(1, 6, 5)\n",
        "        self.pool = nn.MaxPool2d(2, 2)\n",
        "        self.conv2 = nn.Conv2d(6, 16, 5)\n",
        "        self.fc1 = nn.Linear(16 * 4 * 4, 120)\n",
        "        self.fc2 = nn.Linear(120, 84)\n",
        "        self.fc3 = nn.Linear(84, 10)\n",
        "\n",
        "    def forward(self, x):\n",
        "        x = self.pool(F.relu(self.conv1(x)))\n",
        "        x = self.pool(F.relu(self.conv2(x)))\n",
        "        x = x.view(-1, 16 * 4 * 4)\n",
        "        x = F.relu(self.fc1(x))\n",
        "        x = F.relu(self.fc2(x))\n",
        "        x = self.fc3(x)\n",
        "        return x\n",
        "\n",
        "net = Net()\n",
        "\n",
        "criterion = nn.CrossEntropyLoss()\n",
        "optimizer = optim.SGD(net.parameters(), lr=0.001, momentum=0.9)\n",
        "\n",
        "\n",
        "for epoch in range(2):\n",
        "\n",
        "    running_loss = 0.0\n",
        "    for i, data in enumerate(trainloader, 0):\n",
        "\n",
        "        inputs, labels = data\n",
        "\n",
        "\n",
        "        optimizer.zero_grad()\n",
        "\n",
        "\n",
        "        outputs = net(inputs)\n",
        "        loss = criterion(outputs, labels)\n",
        "        loss.backward()\n",
        "        optimizer.step()\n",
        "\n",
        "\n",
        "        running_loss += loss.item()\n",
        "        if i % 2000 == 1999:\n",
        "            print('[%d, %5d] loss: %.3f' %\n",
        "                  (epoch + 1, i + 1, running_loss / 2000))\n",
        "            running_loss = 0.0\n",
        "\n",
        "print('Finished Training')\n",
        "\n",
        "PATH = './mnist_net.pth'\n",
        "torch.save(net.state_dict(), PATH)"
      ]
    },
    {
      "cell_type": "code",
      "execution_count": null,
      "metadata": {
        "colab": {
          "base_uri": "https://localhost:8080/"
        },
        "id": "wKQjt6PZoFPc",
        "outputId": "2a1b0884-da1c-4778-e5fd-adf18fae6389"
      },
      "outputs": [
        {
          "output_type": "stream",
          "name": "stderr",
          "text": [
            "<ipython-input-4-9578c32f842a>:2: FutureWarning: You are using `torch.load` with `weights_only=False` (the current default value), which uses the default pickle module implicitly. It is possible to construct malicious pickle data which will execute arbitrary code during unpickling (See https://github.com/pytorch/pytorch/blob/main/SECURITY.md#untrusted-models for more details). In a future release, the default value for `weights_only` will be flipped to `True`. This limits the functions that could be executed during unpickling. Arbitrary objects will no longer be allowed to be loaded via this mode unless they are explicitly allowlisted by the user via `torch.serialization.add_safe_globals`. We recommend you start setting `weights_only=True` for any use case where you don't have full control of the loaded file. Please open an issue on GitHub for any issues related to this experimental feature.\n",
            "  net.load_state_dict(torch.load(PATH))\n"
          ]
        },
        {
          "output_type": "stream",
          "name": "stdout",
          "text": [
            "Accuracy of the network on the 10000 test images: 98 %\n"
          ]
        }
      ],
      "source": [
        "\n",
        "net = Net()\n",
        "net.load_state_dict(torch.load(PATH))\n",
        "\n",
        "\n",
        "correct = 0\n",
        "total = 0\n",
        "with torch.no_grad():\n",
        "    for data in testloader:\n",
        "        images, labels = data\n",
        "        outputs = net(images)\n",
        "        _, predicted = torch.max(outputs.data, 1)\n",
        "        total += labels.size(0)\n",
        "        correct += (predicted == labels).sum().item()\n",
        "\n",
        "print('Accuracy of the network on the 10000 test images: %d %%' % (\n",
        "    100 * correct / total))"
      ]
    },
    {
      "cell_type": "code",
      "execution_count": null,
      "metadata": {
        "colab": {
          "base_uri": "https://localhost:8080/"
        },
        "id": "6CLW3DZLoFTB",
        "outputId": "b05ea637-27c9-4999-8d02-2ad3e05ea06f"
      },
      "outputs": [
        {
          "output_type": "stream",
          "name": "stdout",
          "text": [
            "Training 3-layer model...\n",
            "[1,  2000] loss: 0.815\n",
            "[1,  4000] loss: 0.388\n",
            "[1,  6000] loss: 0.330\n",
            "[1,  8000] loss: 0.287\n",
            "[1, 10000] loss: 0.248\n",
            "[1, 12000] loss: 0.235\n",
            "[1, 14000] loss: 0.207\n",
            "[2,  2000] loss: 0.177\n",
            "[2,  4000] loss: 0.160\n",
            "[2,  6000] loss: 0.168\n",
            "[2,  8000] loss: 0.159\n",
            "[2, 10000] loss: 0.152\n",
            "[2, 12000] loss: 0.145\n",
            "[2, 14000] loss: 0.148\n",
            "Accuracy of the network: 95.54%\n",
            "Training 4-layer model...\n",
            "[1,  2000] loss: 1.143\n",
            "[1,  4000] loss: 0.435\n",
            "[1,  6000] loss: 0.353\n",
            "[1,  8000] loss: 0.267\n",
            "[1, 10000] loss: 0.245\n",
            "[1, 12000] loss: 0.237\n",
            "[1, 14000] loss: 0.205\n",
            "[2,  2000] loss: 0.170\n",
            "[2,  4000] loss: 0.175\n",
            "[2,  6000] loss: 0.156\n",
            "[2,  8000] loss: 0.157\n",
            "[2, 10000] loss: 0.150\n",
            "[2, 12000] loss: 0.148\n",
            "[2, 14000] loss: 0.156\n",
            "Accuracy of the network: 95.94%\n",
            "Training 5-layer model...\n",
            "[1,  2000] loss: 1.469\n",
            "[1,  4000] loss: 0.503\n",
            "[1,  6000] loss: 0.345\n",
            "[1,  8000] loss: 0.308\n",
            "[1, 10000] loss: 0.254\n",
            "[1, 12000] loss: 0.245\n",
            "[1, 14000] loss: 0.203\n",
            "[2,  2000] loss: 0.184\n",
            "[2,  4000] loss: 0.171\n",
            "[2,  6000] loss: 0.162\n",
            "[2,  8000] loss: 0.158\n",
            "[2, 10000] loss: 0.154\n",
            "[2, 12000] loss: 0.151\n",
            "[2, 14000] loss: 0.135\n",
            "Accuracy of the network: 96.11%\n",
            "Results: {'3-layer': 95.54, '4-layer': 95.94, '5-layer': 96.11}\n"
          ]
        }
      ],
      "source": [
        "#Task3:Changing nuber of Layers.\n",
        "\n",
        "import torch\n",
        "import torch.nn as nn\n",
        "import torch.nn.functional as F\n",
        "import torch.optim as optim\n",
        "\n",
        "\n",
        "\n",
        "def train_and_evaluate_model(net, num_epochs=2):\n",
        "    criterion = nn.CrossEntropyLoss()\n",
        "    optimizer = optim.SGD(net.parameters(), lr=0.001, momentum=0.9)\n",
        "\n",
        "    for epoch in range(num_epochs):\n",
        "        running_loss = 0.0\n",
        "        for i, data in enumerate(trainloader, 0):\n",
        "            inputs, labels = data\n",
        "            optimizer.zero_grad()\n",
        "            outputs = net(inputs)\n",
        "            loss = criterion(outputs, labels)\n",
        "            loss.backward()\n",
        "            optimizer.step()\n",
        "            running_loss += loss.item()\n",
        "            if i % 2000 == 1999:\n",
        "                print('[%d, %5d] loss: %.3f' % (epoch + 1, i + 1, running_loss / 2000))\n",
        "                running_loss = 0.0\n",
        "\n",
        "    correct = 0\n",
        "    total = 0\n",
        "    with torch.no_grad():\n",
        "        for data in testloader:\n",
        "            images, labels = data\n",
        "            outputs = net(images)\n",
        "            _, predicted = torch.max(outputs.data, 1)\n",
        "            total += labels.size(0)\n",
        "            correct += (predicted == labels).sum().item()\n",
        "\n",
        "    accuracy = 100 * correct / total\n",
        "    print(f'Accuracy of the network: {accuracy:.2f}%')\n",
        "    return accuracy\n",
        "\n",
        "\n",
        "class Net3Layers(nn.Module):\n",
        "    def __init__(self):\n",
        "        super().__init__()\n",
        "        self.fc1 = nn.Linear(784, 128)\n",
        "        self.fc2 = nn.Linear(128, 64)\n",
        "        self.fc3 = nn.Linear(64, 10)\n",
        "    def forward(self, x):\n",
        "        x = x.view(-1, 784)\n",
        "        x = F.relu(self.fc1(x))\n",
        "        x = F.relu(self.fc2(x))\n",
        "        x = self.fc3(x)\n",
        "        return x\n",
        "\n",
        "class Net4Layers(nn.Module):\n",
        "\n",
        "    def __init__(self):\n",
        "        super().__init__()\n",
        "        self.fc1 = nn.Linear(784, 256)\n",
        "        self.fc2 = nn.Linear(256, 128)\n",
        "        self.fc3 = nn.Linear(128, 64)\n",
        "        self.fc4 = nn.Linear(64, 10)\n",
        "    def forward(self, x):\n",
        "        x = x.view(-1, 784)\n",
        "        x = F.relu(self.fc1(x))\n",
        "        x = F.relu(self.fc2(x))\n",
        "        x = F.relu(self.fc3(x))\n",
        "        x = self.fc4(x)\n",
        "        return x\n",
        "\n",
        "\n",
        "class Net5Layers(nn.Module):\n",
        "\n",
        "    def __init__(self):\n",
        "        super().__init__()\n",
        "        self.fc1 = nn.Linear(784, 512)\n",
        "        self.fc2 = nn.Linear(512, 256)\n",
        "        self.fc3 = nn.Linear(256, 128)\n",
        "        self.fc4 = nn.Linear(128, 64)\n",
        "        self.fc5 = nn.Linear(64, 10)\n",
        "    def forward(self, x):\n",
        "        x = x.view(-1, 784)\n",
        "        x = F.relu(self.fc1(x))\n",
        "        x = F.relu(self.fc2(x))\n",
        "        x = F.relu(self.fc3(x))\n",
        "        x = F.relu(self.fc4(x))\n",
        "        x = self.fc5(x)\n",
        "        return x\n",
        "\n",
        "\n",
        "models = {\n",
        "    '3-layer': Net3Layers(),\n",
        "    '4-layer': Net4Layers(),\n",
        "    '5-layer': Net5Layers()\n",
        "}\n",
        "\n",
        "results = {}\n",
        "for name, model in models.items():\n",
        "    print(f\"Training {name} model...\")\n",
        "    accuracy = train_and_evaluate_model(model)\n",
        "    results[name] = accuracy\n",
        "\n",
        "print(\"Results:\", results)"
      ]
    },
    {
      "cell_type": "code",
      "source": [
        "#USing different Learning rates\n",
        "import torch\n",
        "import torchvision\n",
        "import torchvision.transforms as transforms\n",
        "import torch.nn as nn\n",
        "import torch.nn.functional as F\n",
        "import torch.optim as optim\n",
        "\n",
        "\n",
        "\n",
        "def train_and_evaluate_model(net, learning_rate, num_epochs=2):\n",
        "    criterion = nn.CrossEntropyLoss()\n",
        "    optimizer = optim.SGD(net.parameters(), lr=learning_rate, momentum=0.9)\n",
        "\n",
        "    for epoch in range(num_epochs):\n",
        "        running_loss = 0.0\n",
        "        for i, data in enumerate(trainloader, 0):\n",
        "            inputs, labels = data\n",
        "            optimizer.zero_grad()\n",
        "            outputs = net(inputs)\n",
        "            loss = criterion(outputs, labels)\n",
        "            loss.backward()\n",
        "            optimizer.step()\n",
        "            running_loss += loss.item()\n",
        "            if i % 2000 == 1999:\n",
        "                print('[%d, %5d] loss: %.3f' % (epoch + 1, i + 1, running_loss / 2000))\n",
        "                running_loss = 0.0\n",
        "\n",
        "    correct = 0\n",
        "    total = 0\n",
        "    with torch.no_grad():\n",
        "        for data in testloader:\n",
        "            images, labels = data\n",
        "            outputs = net(images)\n",
        "            _, predicted = torch.max(outputs.data, 1)\n",
        "            total += labels.size(0)\n",
        "            correct += (predicted == labels).sum().item()\n",
        "\n",
        "    accuracy = 100 * correct / total\n",
        "    print(f'Accuracy of the network with learning rate {learning_rate}: {accuracy:.2f}%')\n",
        "    return accuracy\n",
        "\n",
        "\n",
        "learning_rates = [0.1, 0.01, 0.001]\n",
        "results = {}\n",
        "for lr in learning_rates:\n",
        "    print(f\"Training with learning rate {lr}\")\n",
        "    net = Net()\n",
        "    accuracy = train_and_evaluate_model(net, lr)\n",
        "    results[lr] = accuracy\n",
        "\n",
        "print(\"Results:\", results)"
      ],
      "metadata": {
        "colab": {
          "base_uri": "https://localhost:8080/"
        },
        "id": "ssXpfhOQjfjU",
        "outputId": "6e58b845-159e-461a-dc53-84d60c37dc79"
      },
      "execution_count": null,
      "outputs": [
        {
          "output_type": "stream",
          "name": "stdout",
          "text": [
            "Training with learning rate 0.1\n",
            "[1,  2000] loss: 2.370\n",
            "[1,  4000] loss: 2.356\n",
            "[1,  6000] loss: 2.359\n",
            "[1,  8000] loss: 2.356\n",
            "[1, 10000] loss: 2.357\n",
            "[1, 12000] loss: 2.355\n",
            "[1, 14000] loss: 2.358\n",
            "[2,  2000] loss: 2.357\n",
            "[2,  4000] loss: 2.359\n",
            "[2,  6000] loss: 2.353\n",
            "[2,  8000] loss: 2.356\n",
            "[2, 10000] loss: 2.360\n",
            "[2, 12000] loss: 2.357\n",
            "[2, 14000] loss: 2.359\n",
            "Accuracy of the network with learning rate 0.1: 10.32%\n",
            "Training with learning rate 0.01\n",
            "[1,  2000] loss: 0.788\n",
            "[1,  4000] loss: 0.516\n",
            "[1,  6000] loss: 0.859\n",
            "[1,  8000] loss: 1.031\n",
            "[1, 10000] loss: 1.303\n",
            "[1, 12000] loss: 2.314\n",
            "[1, 14000] loss: 2.309\n",
            "[2,  2000] loss: 2.307\n",
            "[2,  4000] loss: 2.307\n",
            "[2,  6000] loss: 2.307\n",
            "[2,  8000] loss: 2.307\n",
            "[2, 10000] loss: 2.307\n",
            "[2, 12000] loss: 2.306\n",
            "[2, 14000] loss: 2.308\n",
            "Accuracy of the network with learning rate 0.01: 9.58%\n",
            "Training with learning rate 0.001\n",
            "[1,  2000] loss: 1.182\n",
            "[1,  4000] loss: 0.209\n",
            "[1,  6000] loss: 0.154\n",
            "[1,  8000] loss: 0.124\n",
            "[1, 10000] loss: 0.104\n",
            "[1, 12000] loss: 0.088\n",
            "[1, 14000] loss: 0.084\n",
            "[2,  2000] loss: 0.067\n",
            "[2,  4000] loss: 0.068\n",
            "[2,  6000] loss: 0.065\n",
            "[2,  8000] loss: 0.063\n",
            "[2, 10000] loss: 0.053\n",
            "[2, 12000] loss: 0.062\n",
            "[2, 14000] loss: 0.054\n",
            "Accuracy of the network with learning rate 0.001: 98.57%\n",
            "Results: {0.1: 10.32, 0.01: 9.58, 0.001: 98.57}\n"
          ]
        }
      ]
    },
    {
      "cell_type": "code",
      "source": [
        "#using different Activation Fuctions\n",
        "import torch\n",
        "import torch.nn as nn\n",
        "import torch.nn.functional as F\n",
        "class Net(nn.Module):\n",
        "    def __init__(self, activation_function='relu'):\n",
        "        super(Net, self).__init__()\n",
        "        self.conv1 = nn.Conv2d(1, 6, 5)\n",
        "        self.pool = nn.MaxPool2d(2, 2)\n",
        "        self.conv2 = nn.Conv2d(6, 16, 5)\n",
        "        self.fc1 = nn.Linear(16 * 4 * 4, 120)\n",
        "        self.fc2 = nn.Linear(120, 84)\n",
        "        self.fc3 = nn.Linear(84, 10)\n",
        "        self.activation_function = activation_function\n",
        "\n",
        "    def forward(self, x):\n",
        "        if self.activation_function == 'relu':\n",
        "            x = self.pool(F.relu(self.conv1(x)))\n",
        "            x = self.pool(F.relu(self.conv2(x)))\n",
        "            x = x.view(-1, 16 * 4 * 4)\n",
        "            x = F.relu(self.fc1(x))\n",
        "            x = F.relu(self.fc2(x))\n",
        "        elif self.activation_function == 'sigmoid':\n",
        "            x = self.pool(torch.sigmoid(self.conv1(x)))\n",
        "            x = self.pool(torch.sigmoid(self.conv2(x)))\n",
        "            x = x.view(-1, 16 * 4 * 4)\n",
        "            x = torch.sigmoid(self.fc1(x))\n",
        "            x = torch.sigmoid(self.fc2(x))\n",
        "        elif self.activation_function == 'tanh':\n",
        "            x = self.pool(torch.tanh(self.conv1(x)))\n",
        "            x = self.pool(torch.tanh(self.conv2(x)))\n",
        "            x = x.view(-1, 16 * 4 * 4)\n",
        "            x = torch.tanh(self.fc1(x))\n",
        "            x = torch.tanh(self.fc2(x))\n",
        "        else:\n",
        "            raise ValueError(\"Invalid activation function\")\n",
        "        x = self.fc3(x)\n",
        "        return x\n",
        "\n",
        "activation_functions = ['relu', 'sigmoid', 'tanh']\n",
        "results = {}\n",
        "\n",
        "for activation in activation_functions:\n",
        "    print(f\"Training with {activation} activation function...\")\n",
        "    net = Net(activation_function=activation)\n",
        "    results[activation] = accuracy\n",
        "\n",
        "print(\"Results:\", results)"
      ],
      "metadata": {
        "colab": {
          "base_uri": "https://localhost:8080/"
        },
        "id": "MGGcQ6z4j7Z6",
        "outputId": "9d10bcac-ee43-4ea5-ed28-f850cc99ec12"
      },
      "execution_count": null,
      "outputs": [
        {
          "output_type": "stream",
          "name": "stdout",
          "text": [
            "Training with relu activation function...\n",
            "Training with sigmoid activation function...\n",
            "Training with tanh activation function...\n",
            "Results: {'relu': 98.57, 'sigmoid': 98.57, 'tanh': 98.57}\n"
          ]
        }
      ]
    },
    {
      "cell_type": "markdown",
      "source": [
        "SUMMARY:\n",
        "1. Increasing the number of layers generally improves accuracy up to a point. Beyond that, performance may plateau or even decrease depending on other hyperparameters or data complexity.  Further experimentation with more layers and regularization methods could provide more insight.\n",
        "\n",
        "2. The learning rate significantly impacts the training process. Smaller learning rates (like 0.001) may lead to more stable convergence, while larger ones (0.1 in this case) might result in oscillations or divergence, especially in the early stages. A learning rate that's too low could slow down the training process significantly. Finding the right balance is crucial.\n",
        "\n",
        "3. The choice of activation function affects the non-linearity of the model. ReLU generally provides good performance due to its computational efficiency. Sigmoid and tanh can also be effective but sometimes suffer from vanishing gradient problems. The best activation function depends on the problem and other architectural choices.  Experiment with other activation functions such as LeakyReLU or ELU, which are designed to mitigate vanishing gradient issues, might show further improvements.\n",
        "\n",
        "\n",
        "\n"
      ],
      "metadata": {
        "id": "_UF8TJjpqwA2"
      }
    }
  ],
  "metadata": {
    "colab": {
      "provenance": [],
      "gpuType": "T4",
      "include_colab_link": true
    },
    "kernelspec": {
      "display_name": "Python 3",
      "name": "python3"
    },
    "language_info": {
      "name": "python"
    },
    "accelerator": "GPU"
  },
  "nbformat": 4,
  "nbformat_minor": 0
}